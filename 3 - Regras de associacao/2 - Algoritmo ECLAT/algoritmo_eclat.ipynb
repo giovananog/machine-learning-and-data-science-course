{
  "nbformat": 4,
  "nbformat_minor": 0,
  "metadata": {
    "colab": {
      "provenance": [],
      "collapsed_sections": [
        "wo_FnyqZdSHP",
        "IE2LDIuAdVf2",
        "D8SRPAsJmEs3"
      ]
    },
    "kernelspec": {
      "name": "python3",
      "display_name": "Python 3"
    },
    "language_info": {
      "name": "python"
    }
  },
  "cells": [
    {
      "cell_type": "markdown",
      "metadata": {
        "id": "JyRsZCDKdgpf"
      },
      "source": [
        "# ECLAT"
      ]
    },
    {
      "cell_type": "code",
      "metadata": {
        "id": "AbdG7zjpSigz"
      },
      "source": [
        "!pip install pyECLAT"
      ],
      "execution_count": null,
      "outputs": []
    },
    {
      "cell_type": "code",
      "metadata": {
        "colab": {
          "base_uri": "https://localhost:8080/",
          "height": 386
        },
        "id": "uauiuof5So9b",
        "outputId": "954edf16-a71d-4cd3-ff2b-6026d8c3dfbf"
      },
      "source": [
        "base_mercado1 = pd.read_csv('mercado.csv', header = None)\n",
        "base_mercado1"
      ],
      "execution_count": null,
      "outputs": [
        {
          "output_type": "execute_result",
          "data": {
            "text/html": [
              "<div>\n",
              "<style scoped>\n",
              "    .dataframe tbody tr th:only-of-type {\n",
              "        vertical-align: middle;\n",
              "    }\n",
              "\n",
              "    .dataframe tbody tr th {\n",
              "        vertical-align: top;\n",
              "    }\n",
              "\n",
              "    .dataframe thead th {\n",
              "        text-align: right;\n",
              "    }\n",
              "</style>\n",
              "<table border=\"1\" class=\"dataframe\">\n",
              "  <thead>\n",
              "    <tr style=\"text-align: right;\">\n",
              "      <th></th>\n",
              "      <th>0</th>\n",
              "      <th>1</th>\n",
              "      <th>2</th>\n",
              "      <th>3</th>\n",
              "    </tr>\n",
              "  </thead>\n",
              "  <tbody>\n",
              "    <tr>\n",
              "      <th>0</th>\n",
              "      <td>leite</td>\n",
              "      <td>cerveja</td>\n",
              "      <td>pao</td>\n",
              "      <td>manteiga</td>\n",
              "    </tr>\n",
              "    <tr>\n",
              "      <th>1</th>\n",
              "      <td>cafe</td>\n",
              "      <td>pao</td>\n",
              "      <td>manteiga</td>\n",
              "      <td>NaN</td>\n",
              "    </tr>\n",
              "    <tr>\n",
              "      <th>2</th>\n",
              "      <td>cafe</td>\n",
              "      <td>pao</td>\n",
              "      <td>manteiga</td>\n",
              "      <td>NaN</td>\n",
              "    </tr>\n",
              "    <tr>\n",
              "      <th>3</th>\n",
              "      <td>leite</td>\n",
              "      <td>cafe</td>\n",
              "      <td>pao</td>\n",
              "      <td>manteiga</td>\n",
              "    </tr>\n",
              "    <tr>\n",
              "      <th>4</th>\n",
              "      <td>cerveja</td>\n",
              "      <td>NaN</td>\n",
              "      <td>NaN</td>\n",
              "      <td>NaN</td>\n",
              "    </tr>\n",
              "    <tr>\n",
              "      <th>5</th>\n",
              "      <td>manteiga</td>\n",
              "      <td>NaN</td>\n",
              "      <td>NaN</td>\n",
              "      <td>NaN</td>\n",
              "    </tr>\n",
              "    <tr>\n",
              "      <th>6</th>\n",
              "      <td>pao</td>\n",
              "      <td>NaN</td>\n",
              "      <td>NaN</td>\n",
              "      <td>NaN</td>\n",
              "    </tr>\n",
              "    <tr>\n",
              "      <th>7</th>\n",
              "      <td>feijao</td>\n",
              "      <td>NaN</td>\n",
              "      <td>NaN</td>\n",
              "      <td>NaN</td>\n",
              "    </tr>\n",
              "    <tr>\n",
              "      <th>8</th>\n",
              "      <td>arroz</td>\n",
              "      <td>feijao</td>\n",
              "      <td>NaN</td>\n",
              "      <td>NaN</td>\n",
              "    </tr>\n",
              "    <tr>\n",
              "      <th>9</th>\n",
              "      <td>arroz</td>\n",
              "      <td>NaN</td>\n",
              "      <td>NaN</td>\n",
              "      <td>NaN</td>\n",
              "    </tr>\n",
              "  </tbody>\n",
              "</table>\n",
              "</div>"
            ],
            "text/plain": [
              "          0        1         2         3\n",
              "0     leite  cerveja       pao  manteiga\n",
              "1      cafe      pao  manteiga       NaN\n",
              "2      cafe      pao  manteiga       NaN\n",
              "3     leite     cafe       pao  manteiga\n",
              "4   cerveja      NaN       NaN       NaN\n",
              "5  manteiga      NaN       NaN       NaN\n",
              "6       pao      NaN       NaN       NaN\n",
              "7    feijao      NaN       NaN       NaN\n",
              "8     arroz   feijao       NaN       NaN\n",
              "9     arroz      NaN       NaN       NaN"
            ]
          },
          "metadata": {
            "tags": []
          },
          "execution_count": 88
        }
      ]
    },
    {
      "cell_type": "code",
      "metadata": {
        "id": "SpRb1TbKS0pA"
      },
      "source": [
        "from pyECLAT import ECLAT\n",
        "eclat = ECLAT(data = base_mercado1)"
      ],
      "execution_count": null,
      "outputs": []
    },
    {
      "cell_type": "code",
      "metadata": {
        "colab": {
          "base_uri": "https://localhost:8080/",
          "height": 386
        },
        "id": "hjp4HJ-US9Dt",
        "outputId": "55e7ae08-ee0d-4921-f60e-675b393a5b74"
      },
      "source": [
        "eclat.df_bin"
      ],
      "execution_count": null,
      "outputs": [
        {
          "output_type": "execute_result",
          "data": {
            "text/html": [
              "<div>\n",
              "<style scoped>\n",
              "    .dataframe tbody tr th:only-of-type {\n",
              "        vertical-align: middle;\n",
              "    }\n",
              "\n",
              "    .dataframe tbody tr th {\n",
              "        vertical-align: top;\n",
              "    }\n",
              "\n",
              "    .dataframe thead th {\n",
              "        text-align: right;\n",
              "    }\n",
              "</style>\n",
              "<table border=\"1\" class=\"dataframe\">\n",
              "  <thead>\n",
              "    <tr style=\"text-align: right;\">\n",
              "      <th></th>\n",
              "      <th>cerveja</th>\n",
              "      <th>pao</th>\n",
              "      <th>cafe</th>\n",
              "      <th>feijao</th>\n",
              "      <th>leite</th>\n",
              "      <th>arroz</th>\n",
              "      <th>manteiga</th>\n",
              "    </tr>\n",
              "  </thead>\n",
              "  <tbody>\n",
              "    <tr>\n",
              "      <th>0</th>\n",
              "      <td>1</td>\n",
              "      <td>1</td>\n",
              "      <td>0</td>\n",
              "      <td>0</td>\n",
              "      <td>1</td>\n",
              "      <td>0</td>\n",
              "      <td>1</td>\n",
              "    </tr>\n",
              "    <tr>\n",
              "      <th>1</th>\n",
              "      <td>0</td>\n",
              "      <td>1</td>\n",
              "      <td>1</td>\n",
              "      <td>0</td>\n",
              "      <td>0</td>\n",
              "      <td>0</td>\n",
              "      <td>1</td>\n",
              "    </tr>\n",
              "    <tr>\n",
              "      <th>2</th>\n",
              "      <td>0</td>\n",
              "      <td>1</td>\n",
              "      <td>1</td>\n",
              "      <td>0</td>\n",
              "      <td>0</td>\n",
              "      <td>0</td>\n",
              "      <td>1</td>\n",
              "    </tr>\n",
              "    <tr>\n",
              "      <th>3</th>\n",
              "      <td>0</td>\n",
              "      <td>1</td>\n",
              "      <td>1</td>\n",
              "      <td>0</td>\n",
              "      <td>1</td>\n",
              "      <td>0</td>\n",
              "      <td>1</td>\n",
              "    </tr>\n",
              "    <tr>\n",
              "      <th>4</th>\n",
              "      <td>1</td>\n",
              "      <td>0</td>\n",
              "      <td>0</td>\n",
              "      <td>0</td>\n",
              "      <td>0</td>\n",
              "      <td>0</td>\n",
              "      <td>0</td>\n",
              "    </tr>\n",
              "    <tr>\n",
              "      <th>5</th>\n",
              "      <td>0</td>\n",
              "      <td>0</td>\n",
              "      <td>0</td>\n",
              "      <td>0</td>\n",
              "      <td>0</td>\n",
              "      <td>0</td>\n",
              "      <td>1</td>\n",
              "    </tr>\n",
              "    <tr>\n",
              "      <th>6</th>\n",
              "      <td>0</td>\n",
              "      <td>1</td>\n",
              "      <td>0</td>\n",
              "      <td>0</td>\n",
              "      <td>0</td>\n",
              "      <td>0</td>\n",
              "      <td>0</td>\n",
              "    </tr>\n",
              "    <tr>\n",
              "      <th>7</th>\n",
              "      <td>0</td>\n",
              "      <td>0</td>\n",
              "      <td>0</td>\n",
              "      <td>1</td>\n",
              "      <td>0</td>\n",
              "      <td>0</td>\n",
              "      <td>0</td>\n",
              "    </tr>\n",
              "    <tr>\n",
              "      <th>8</th>\n",
              "      <td>0</td>\n",
              "      <td>0</td>\n",
              "      <td>0</td>\n",
              "      <td>1</td>\n",
              "      <td>0</td>\n",
              "      <td>1</td>\n",
              "      <td>0</td>\n",
              "    </tr>\n",
              "    <tr>\n",
              "      <th>9</th>\n",
              "      <td>0</td>\n",
              "      <td>0</td>\n",
              "      <td>0</td>\n",
              "      <td>0</td>\n",
              "      <td>0</td>\n",
              "      <td>1</td>\n",
              "      <td>0</td>\n",
              "    </tr>\n",
              "  </tbody>\n",
              "</table>\n",
              "</div>"
            ],
            "text/plain": [
              "   cerveja  pao  cafe  feijao  leite  arroz  manteiga\n",
              "0        1    1     0       0      1      0         1\n",
              "1        0    1     1       0      0      0         1\n",
              "2        0    1     1       0      0      0         1\n",
              "3        0    1     1       0      1      0         1\n",
              "4        1    0     0       0      0      0         0\n",
              "5        0    0     0       0      0      0         1\n",
              "6        0    1     0       0      0      0         0\n",
              "7        0    0     0       1      0      0         0\n",
              "8        0    0     0       1      0      1         0\n",
              "9        0    0     0       0      0      1         0"
            ]
          },
          "metadata": {
            "tags": []
          },
          "execution_count": 90
        }
      ]
    },
    {
      "cell_type": "code",
      "metadata": {
        "colab": {
          "base_uri": "https://localhost:8080/"
        },
        "id": "co3ngyo0TO8f",
        "outputId": "e2a51502-da77-46c8-c27a-9dd5025e2cb4"
      },
      "source": [
        "eclat.uniq_"
      ],
      "execution_count": null,
      "outputs": [
        {
          "output_type": "execute_result",
          "data": {
            "text/plain": [
              "[nan, 'cerveja', 'pao', 'cafe', 'feijao', 'leite', 'arroz', 'manteiga']"
            ]
          },
          "metadata": {
            "tags": []
          },
          "execution_count": 91
        }
      ]
    },
    {
      "cell_type": "code",
      "metadata": {
        "colab": {
          "base_uri": "https://localhost:8080/"
        },
        "id": "SOJg-lbdTUBn",
        "outputId": "5c48955e-f572-4ae2-ed8f-ee602d0e12cb"
      },
      "source": [
        "indices, suporte = eclat.fit(min_support=0.3, min_combination=1, max_combination=3)"
      ],
      "execution_count": null,
      "outputs": [
        {
          "output_type": "stream",
          "text": [
            "3it [00:00, 110.13it/s]\n",
            "3it [00:00, 132.27it/s]\n",
            "1it [00:00, 71.19it/s]"
          ],
          "name": "stderr"
        },
        {
          "output_type": "stream",
          "text": [
            "Combination 1 by 1\n",
            "Combination 2 by 2\n",
            "Combination 3 by 3\n"
          ],
          "name": "stdout"
        },
        {
          "output_type": "stream",
          "text": [
            "\n"
          ],
          "name": "stderr"
        }
      ]
    },
    {
      "cell_type": "code",
      "metadata": {
        "colab": {
          "base_uri": "https://localhost:8080/"
        },
        "id": "ls7RtMvfTieQ",
        "outputId": "a39656d6-405b-4f64-f763-d1faff39f528"
      },
      "source": [
        "indices"
      ],
      "execution_count": null,
      "outputs": [
        {
          "output_type": "execute_result",
          "data": {
            "text/plain": [
              "{'cafe': [1, 2, 3],\n",
              " 'cafe & manteiga': [1, 2, 3],\n",
              " 'manteiga': [0, 1, 2, 3, 5],\n",
              " 'pao': [0, 1, 2, 3, 6],\n",
              " 'pao & cafe': [1, 2, 3],\n",
              " 'pao & cafe & manteiga': [1, 2, 3],\n",
              " 'pao & manteiga': [0, 1, 2, 3]}"
            ]
          },
          "metadata": {
            "tags": []
          },
          "execution_count": 97
        }
      ]
    },
    {
      "cell_type": "code",
      "metadata": {
        "id": "gz0cj4FST2iE",
        "outputId": "684a5419-2acb-4d72-c1c7-9fd8a481974e",
        "colab": {
          "base_uri": "https://localhost:8080/"
        }
      },
      "source": [
        "suporte"
      ],
      "execution_count": null,
      "outputs": [
        {
          "output_type": "execute_result",
          "data": {
            "text/plain": [
              "{'cafe': 0.3,\n",
              " 'cafe & manteiga': 0.3,\n",
              " 'manteiga': 0.5,\n",
              " 'pao': 0.5,\n",
              " 'pao & cafe': 0.3,\n",
              " 'pao & cafe & manteiga': 0.3,\n",
              " 'pao & manteiga': 0.4}"
            ]
          },
          "metadata": {
            "tags": []
          },
          "execution_count": 98
        }
      ]
    }
  ]
}