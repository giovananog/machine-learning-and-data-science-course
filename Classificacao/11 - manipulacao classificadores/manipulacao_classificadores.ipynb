{
  "nbformat": 4,
  "nbformat_minor": 0,
  "metadata": {
    "colab": {
      "provenance": [],
      "collapsed_sections": [
        "wo_FnyqZdSHP",
        "IE2LDIuAdVf2",
        "D8SRPAsJmEs3"
      ],
      "toc_visible": true
    },
    "kernelspec": {
      "name": "python3",
      "display_name": "Python 3"
    },
    "language_info": {
      "name": "python"
    }
  },
  "cells": [
    {
      "cell_type": "markdown",
      "metadata": {
        "id": "wo_FnyqZdSHP"
      },
      "source": [
        "# Salvar um classificador já treinado"
      ]
    },
    {
      "cell_type": "code",
      "execution_count": null,
      "metadata": {
        "colab": {
          "background_save": true
        },
        "id": "z6IYwDGldXxK"
      },
      "outputs": [],
      "source": [
        "with open('credit.pkl', 'rb') as f:\n",
        "  X_credit_treinamento, y_credit_treinamento, X_credit_teste, y_credit_teste = pickle.load(f)"
      ]
    },
    {
      "cell_type": "code",
      "execution_count": null,
      "metadata": {
        "colab": {
          "background_save": true
        },
        "id": "tAr2Qn4bdcE_"
      },
      "outputs": [],
      "source": [
        "X_credit = np.concatenate((X_credit_treinamento, X_credit_teste), axis = 0)\n",
        "y_credit = np.concatenate((y_credit_treinamento, y_credit_teste), axis = 0)"
      ]
    },
    {
      "cell_type": "code",
      "execution_count": null,
      "metadata": {
        "colab": {
          "background_save": true
        },
        "id": "G2cSwOUgde_L",
        "outputId": "80c73b45-0492-4c75-99c2-4c221ddae57c"
      },
      "outputs": [
        {
          "data": {
            "text/plain": [
              "((2000, 3), (2000,))"
            ]
          },
          "execution_count": 368,
          "metadata": {},
          "output_type": "execute_result"
        }
      ],
      "source": [
        "X_credit.shape, y_credit.shape"
      ]
    },
    {
      "cell_type": "code",
      "execution_count": null,
      "metadata": {
        "colab": {
          "background_save": true
        },
        "id": "QRE_jkw-gtOw"
      },
      "outputs": [],
      "source": [
        "from sklearn.neural_network import MLPClassifier\n",
        "from sklearn.tree import DecisionTreeClassifier\n",
        "from sklearn.svm import SVC"
      ]
    },
    {
      "cell_type": "code",
      "execution_count": null,
      "metadata": {
        "colab": {
          "background_save": true
        },
        "id": "pGNIuf7ng4Vu",
        "outputId": "149d7b2a-03fe-408d-e75b-9aa1c2b454f9"
      },
      "outputs": [
        {
          "name": "stderr",
          "output_type": "stream",
          "text": [
            "/usr/local/lib/python3.7/dist-packages/sklearn/neural_network/_multilayer_perceptron.py:696: ConvergenceWarning:\n",
            "\n",
            "Stochastic Optimizer: Maximum iterations (200) reached and the optimization hasn't converged yet.\n",
            "\n"
          ]
        },
        {
          "data": {
            "text/plain": [
              "MLPClassifier(batch_size=56)"
            ]
          },
          "execution_count": 370,
          "metadata": {},
          "output_type": "execute_result"
        }
      ],
      "source": [
        "classificador_rede_neural = MLPClassifier(activation='relu', batch_size = 56, solver='adam')\n",
        "classificador_rede_neural.fit(X_credit, y_credit)"
      ]
    },
    {
      "cell_type": "code",
      "execution_count": null,
      "metadata": {
        "colab": {
          "background_save": true
        },
        "id": "3Df8-kTQhOyf",
        "outputId": "ededaa17-4490-4c28-d1d0-0c4e1f7db7e2"
      },
      "outputs": [
        {
          "data": {
            "text/plain": [
              "DecisionTreeClassifier(criterion='entropy', min_samples_split=5)"
            ]
          },
          "execution_count": 371,
          "metadata": {},
          "output_type": "execute_result"
        }
      ],
      "source": [
        "classificador_arvore = DecisionTreeClassifier(criterion='entropy', min_samples_leaf=1, min_samples_split=5, splitter='best')\n",
        "classificador_arvore.fit(X_credit, y_credit)"
      ]
    },
    {
      "cell_type": "code",
      "execution_count": null,
      "metadata": {
        "colab": {
          "background_save": true
        },
        "id": "_AevOaE1hf6c",
        "outputId": "84774d44-2943-4501-d59d-e636e53e5712"
      },
      "outputs": [
        {
          "data": {
            "text/plain": [
              "SVC(C=2.0, probability=True)"
            ]
          },
          "execution_count": 372,
          "metadata": {},
          "output_type": "execute_result"
        }
      ],
      "source": [
        "classificador_svm = SVC(C = 2.0, kernel='rbf', probability=True)\n",
        "classificador_svm.fit(X_credit, y_credit)"
      ]
    },
    {
      "cell_type": "code",
      "execution_count": null,
      "metadata": {
        "colab": {
          "background_save": true
        },
        "id": "UQOyP8ZqhrQ6"
      },
      "outputs": [],
      "source": [
        "import pickle\n",
        "pickle.dump(classificador_rede_neural, open('rede_neural_finalizado.sav', 'wb'))\n",
        "pickle.dump(classificador_arvore, open('arvore_finalizado.sav', 'wb'))\n",
        "pickle.dump(classificador_svm, open('svm_finalizado.sav', 'wb'))"
      ]
    },
    {
      "cell_type": "markdown",
      "metadata": {
        "id": "IE2LDIuAdVf2"
      },
      "source": [
        "# Carregar um classificador já treinado"
      ]
    },
    {
      "cell_type": "code",
      "execution_count": null,
      "metadata": {
        "colab": {
          "background_save": true
        },
        "id": "jFS52QjkkLEP"
      },
      "outputs": [],
      "source": [
        "rede_neural = pickle.load(open('rede_neural_finalizado.sav', 'rb'))\n",
        "arvore = pickle.load(open('arvore_finalizado.sav', 'rb'))\n",
        "svm = pickle.load(open('svm_finalizado.sav', 'rb'))"
      ]
    },
    {
      "cell_type": "code",
      "execution_count": null,
      "metadata": {
        "colab": {
          "background_save": true
        },
        "id": "ZhRtIsh_kn4B",
        "outputId": "c0dd7598-cca3-44b9-b31f-ab6b0e0025ec"
      },
      "outputs": [
        {
          "data": {
            "text/plain": [
              "array([-1.03572293, -0.93978122,  0.04244312])"
            ]
          },
          "execution_count": 375,
          "metadata": {},
          "output_type": "execute_result"
        }
      ],
      "source": [
        "novo_registro = X_credit[1999]\n",
        "novo_registro"
      ]
    },
    {
      "cell_type": "code",
      "execution_count": null,
      "metadata": {
        "colab": {
          "background_save": true
        },
        "id": "y02JAV9WkyEx",
        "outputId": "e523720d-f001-4687-e8fe-70807cdaa8a8"
      },
      "outputs": [
        {
          "data": {
            "text/plain": [
              "(3,)"
            ]
          },
          "execution_count": 376,
          "metadata": {},
          "output_type": "execute_result"
        }
      ],
      "source": [
        "novo_registro.shape"
      ]
    },
    {
      "cell_type": "code",
      "execution_count": null,
      "metadata": {
        "colab": {
          "background_save": true
        },
        "id": "NdJ7vai0k-Nl",
        "outputId": "2b083045-fd53-49ce-ec45-9c8ab2160e85"
      },
      "outputs": [
        {
          "data": {
            "text/plain": [
              "(1, 3)"
            ]
          },
          "execution_count": 377,
          "metadata": {},
          "output_type": "execute_result"
        }
      ],
      "source": [
        "novo_registro = novo_registro.reshape(1, -1)\n",
        "novo_registro.shape"
      ]
    },
    {
      "cell_type": "code",
      "execution_count": null,
      "metadata": {
        "colab": {
          "background_save": true
        },
        "id": "DUw8747mlG5L",
        "outputId": "4c4a17dd-486e-4d67-aec3-b6500669a9bd"
      },
      "outputs": [
        {
          "data": {
            "text/plain": [
              "array([[-1.03572293, -0.93978122,  0.04244312]])"
            ]
          },
          "execution_count": 378,
          "metadata": {},
          "output_type": "execute_result"
        }
      ],
      "source": [
        "novo_registro"
      ]
    },
    {
      "cell_type": "code",
      "execution_count": null,
      "metadata": {
        "colab": {
          "background_save": true
        },
        "id": "VkIrzIRxk2GG",
        "outputId": "2b8298a2-fe68-4a3b-a7b1-cb58e719f289"
      },
      "outputs": [
        {
          "data": {
            "text/plain": [
              "array([1])"
            ]
          },
          "execution_count": 379,
          "metadata": {},
          "output_type": "execute_result"
        }
      ],
      "source": [
        "rede_neural.predict(novo_registro)"
      ]
    },
    {
      "cell_type": "code",
      "execution_count": null,
      "metadata": {
        "colab": {
          "background_save": true
        },
        "id": "S-anyC6dlMWH",
        "outputId": "5c76ec7f-759b-40cf-fe35-78968306b83a"
      },
      "outputs": [
        {
          "data": {
            "text/plain": [
              "array([1])"
            ]
          },
          "execution_count": 380,
          "metadata": {},
          "output_type": "execute_result"
        }
      ],
      "source": [
        "arvore.predict(novo_registro)"
      ]
    },
    {
      "cell_type": "code",
      "execution_count": null,
      "metadata": {
        "colab": {
          "background_save": true
        },
        "id": "_h1sPgiIlQ5a",
        "outputId": "5e5b5735-0ac8-4cee-f25a-855d8b6476a7"
      },
      "outputs": [
        {
          "data": {
            "text/plain": [
              "array([1])"
            ]
          },
          "execution_count": 381,
          "metadata": {},
          "output_type": "execute_result"
        }
      ],
      "source": [
        "svm.predict(novo_registro)"
      ]
    },
    {
      "cell_type": "markdown",
      "metadata": {
        "id": "D8SRPAsJmEs3"
      },
      "source": [
        "# Combinação de classificadores"
      ]
    },
    {
      "cell_type": "code",
      "execution_count": null,
      "metadata": {
        "colab": {
          "background_save": true
        },
        "id": "FQL_bn8NmK2P",
        "outputId": "2d55c67f-502f-49b9-a7cd-ac58b2a3516f"
      },
      "outputs": [
        {
          "data": {
            "text/plain": [
              "(array([[-1.03572293, -0.93978122,  0.04244312]]), (1, 3))"
            ]
          },
          "execution_count": 382,
          "metadata": {},
          "output_type": "execute_result"
        }
      ],
      "source": [
        "novo_registro = X_credit[1999]\n",
        "novo_registro = novo_registro.reshape(1, -1)\n",
        "novo_registro, novo_registro.shape"
      ]
    },
    {
      "cell_type": "code",
      "execution_count": null,
      "metadata": {
        "colab": {
          "background_save": true
        },
        "id": "kerWrM_zmQvP"
      },
      "outputs": [],
      "source": [
        "resposta_rede_neural = rede_neural.predict(novo_registro)\n",
        "resposta_arvore = arvore.predict(novo_registro)\n",
        "resposta_svm = svm.predict(novo_registro)"
      ]
    },
    {
      "cell_type": "code",
      "execution_count": null,
      "metadata": {
        "colab": {
          "background_save": true
        },
        "id": "SouSNSBbnA7T",
        "outputId": "8f087df0-68d1-4b52-8800-eadd6c17aad6"
      },
      "outputs": [
        {
          "data": {
            "text/plain": [
              "(1, 1, 1)"
            ]
          },
          "execution_count": 384,
          "metadata": {},
          "output_type": "execute_result"
        }
      ],
      "source": [
        "resposta_rede_neural[0], resposta_arvore[0], resposta_svm[0]"
      ]
    },
    {
      "cell_type": "code",
      "execution_count": null,
      "metadata": {
        "colab": {
          "background_save": true
        },
        "id": "eJoktf-XnLdM",
        "outputId": "c588bdc6-48b1-44cb-bff8-befdc047b8b6"
      },
      "outputs": [
        {
          "name": "stdout",
          "output_type": "stream",
          "text": [
            "Cliente não pagará o empréstimo\n"
          ]
        }
      ],
      "source": [
        "paga = 0\n",
        "nao_paga = 0\n",
        "\n",
        "if resposta_rede_neural[0] == 1:\n",
        "  nao_paga += 1\n",
        "else:\n",
        "  paga += 1\n",
        "\n",
        "if resposta_arvore[0] == 1:\n",
        "  nao_paga += 1\n",
        "else:\n",
        "  paga += 1\n",
        "\n",
        "if resposta_svm[0] == 1:\n",
        "  nao_paga += 1\n",
        "else:\n",
        "  paga += 1\n",
        "\n",
        "if paga > nao_paga:\n",
        "  print('Cliente pagará o empréstimo')\n",
        "elif paga == nao_paga:\n",
        "  print('Empate')\n",
        "else:\n",
        "  print('Cliente não pagará o empréstimo')"
      ]
    },
    {
      "cell_type": "markdown",
      "metadata": {
        "id": "P3OWvpIvmIDH"
      },
      "source": [
        "# Rejeição de classificadores"
      ]
    },
    {
      "cell_type": "code",
      "execution_count": null,
      "metadata": {
        "colab": {
          "background_save": true
        },
        "id": "qWctOdKjpDWf",
        "outputId": "5b61cac4-96f3-4f05-e148-cb2fbb4b6788"
      },
      "outputs": [
        {
          "data": {
            "text/plain": [
              "(array([[-1.03572293, -0.93978122,  0.04244312]]), (1, 3))"
            ]
          },
          "execution_count": 386,
          "metadata": {},
          "output_type": "execute_result"
        }
      ],
      "source": [
        "novo_registro = X_credit[1999]\n",
        "novo_registro = novo_registro.reshape(1, -1)\n",
        "novo_registro, novo_registro.shape"
      ]
    },
    {
      "cell_type": "code",
      "execution_count": null,
      "metadata": {
        "colab": {
          "background_save": true
        },
        "id": "SA23SCvapLPB"
      },
      "outputs": [],
      "source": [
        "resposta_rede_neural = rede_neural.predict(novo_registro)\n",
        "resposta_arvore = arvore.predict(novo_registro)\n",
        "resposta_svm = svm.predict(novo_registro)"
      ]
    },
    {
      "cell_type": "code",
      "execution_count": null,
      "metadata": {
        "colab": {
          "background_save": true
        },
        "id": "roB4WLMqpPFN",
        "outputId": "617247a0-73b2-4cfc-fc59-4d4addd2169a"
      },
      "outputs": [
        {
          "data": {
            "text/plain": [
              "(1, 1, 1)"
            ]
          },
          "execution_count": 388,
          "metadata": {},
          "output_type": "execute_result"
        }
      ],
      "source": [
        "resposta_rede_neural[0], resposta_arvore[0], resposta_svm[0]"
      ]
    },
    {
      "cell_type": "code",
      "execution_count": null,
      "metadata": {
        "colab": {
          "background_save": true
        },
        "id": "A5pTxq8apoM4",
        "outputId": "df07f6af-6b0c-4bbb-9d35-5a6ae7bf9be2"
      },
      "outputs": [
        {
          "data": {
            "text/plain": [
              "array([[1.15157835e-04, 9.99884842e-01]])"
            ]
          },
          "execution_count": 389,
          "metadata": {},
          "output_type": "execute_result"
        }
      ],
      "source": [
        "probabilidade_rede_neural = rede_neural.predict_proba(novo_registro)\n",
        "probabilidade_rede_neural"
      ]
    },
    {
      "cell_type": "code",
      "execution_count": null,
      "metadata": {
        "colab": {
          "background_save": true
        },
        "id": "wStt8iSIp_yc",
        "outputId": "0f83a593-b666-4211-e296-066a9484a482"
      },
      "outputs": [
        {
          "data": {
            "text/plain": [
              "0.9998848421645554"
            ]
          },
          "execution_count": 390,
          "metadata": {},
          "output_type": "execute_result"
        }
      ],
      "source": [
        "confianca_rede_neural = probabilidade_rede_neural.max()\n",
        "confianca_rede_neural"
      ]
    },
    {
      "cell_type": "code",
      "execution_count": null,
      "metadata": {
        "colab": {
          "background_save": true
        },
        "id": "S1mgc0duqMa9",
        "outputId": "9b2cdc0c-f387-42ea-806e-54ac86c925d6"
      },
      "outputs": [
        {
          "data": {
            "text/plain": [
              "1.0"
            ]
          },
          "execution_count": 391,
          "metadata": {},
          "output_type": "execute_result"
        }
      ],
      "source": [
        "probabilidade_arvore = arvore.predict_proba(novo_registro)\n",
        "confianca_arvore = probabilidade_arvore.max()\n",
        "confianca_arvore"
      ]
    },
    {
      "cell_type": "code",
      "execution_count": null,
      "metadata": {
        "colab": {
          "background_save": true
        },
        "id": "ehUJYI79qX6D",
        "outputId": "12ae281c-be23-4569-9d6e-5dcb8a6d97c2"
      },
      "outputs": [
        {
          "data": {
            "text/plain": [
              "0.9919673993838404"
            ]
          },
          "execution_count": 392,
          "metadata": {},
          "output_type": "execute_result"
        }
      ],
      "source": [
        "probabilidade_svm = svm.predict_proba(novo_registro)\n",
        "confianca_svm = probabilidade_svm.max()\n",
        "confianca_svm"
      ]
    },
    {
      "cell_type": "code",
      "execution_count": null,
      "metadata": {
        "colab": {
          "background_save": true
        },
        "id": "r7Jn8d8uq2rN",
        "outputId": "b89584ed-f3a5-4f6e-8b20-2c1d65e94619"
      },
      "outputs": [
        {
          "name": "stdout",
          "output_type": "stream",
          "text": [
            "Cliente não pagará o empréstimo, baseado em 1 algoritmos\n"
          ]
        }
      ],
      "source": [
        "paga = 0\n",
        "nao_paga = 0\n",
        "confianca_minima = 0.999999\n",
        "algoritmos = 0\n",
        "\n",
        "if confianca_rede_neural >= confianca_minima:\n",
        "  algoritmos += 1\n",
        "  if resposta_rede_neural[0] == 1:\n",
        "    nao_paga += 1\n",
        "  else:\n",
        "    paga += 1\n",
        "\n",
        "if confianca_arvore >= confianca_minima:\n",
        "  algoritmos += 1\n",
        "  if resposta_arvore[0] == 1:\n",
        "    nao_paga += 1\n",
        "  else:\n",
        "    paga += 1\n",
        "\n",
        "if confianca_svm >= confianca_minima:\n",
        "  algoritmos += 1\n",
        "  if resposta_svm[0] == 1:\n",
        "    nao_paga += 1\n",
        "  else:\n",
        "    paga += 1\n",
        "\n",
        "if paga > nao_paga:\n",
        "  print('Cliente pagará o empréstimo, baseado em {} algoritmos'.format(algoritmos))\n",
        "elif paga == nao_paga:\n",
        "  print('Empate, baseado em {} algoritmos'.format(algoritmos))\n",
        "else:\n",
        "  print('Cliente não pagará o empréstimo, baseado em {} algoritmos'.format(algoritmos))"
      ]
    }
  ]
}